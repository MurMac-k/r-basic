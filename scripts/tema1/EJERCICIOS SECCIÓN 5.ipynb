{
 "cells": [
  {
   "cell_type": "markdown",
   "metadata": {},
   "source": [
    "# Ejercicios "
   ]
  },
  {
   "cell_type": "code",
   "execution_count": 36,
   "metadata": {},
   "outputs": [
    {
     "name": "stdout",
     "output_type": "stream",
     "text": [
      "Escribe un número:-0.5\n",
      "Has escrito un número negativo\n"
     ]
    }
   ],
   "source": [
    "x = float(input(\"Escribe un número:\"))\n",
    "if x < 0:\n",
    "    print(\"Has escrito un número negativo\")\n",
    "elif x == 0:\n",
    "    print(\"Has escrito un 0\")\n",
    "else:\n",
    "    print(\"Has escrito un número positivo\")"
   ]
  },
  {
   "cell_type": "code",
   "execution_count": 38,
   "metadata": {},
   "outputs": [
    {
     "name": "stdout",
     "output_type": "stream",
     "text": [
      "Escribe un número:3\n",
      "Has escrito un número en el rango de [-5,5]\n"
     ]
    }
   ],
   "source": [
    "x = float(input(\"Escribe un número:\"))\n",
    "if x>-5 and x < 5:\n",
    "    print(\"Has escrito un número en el rango de [-5,5]\")"
   ]
  },
  {
   "cell_type": "code",
   "execution_count": 30,
   "metadata": {},
   "outputs": [],
   "source": [
    "def cuadrantes (x,y):\n",
    "    if x<0 and y>0:\n",
    "        print(\"cuadrante 1\")\n",
    "    elif x>0 and y>0:\n",
    "        print(\"cuadrante 2\")\n",
    "    elif x<0 and y<0:\n",
    "        print(\"cuadrante 3\")\n",
    "    else:\n",
    "        print(\"cuadrante 4\")"
   ]
  },
  {
   "cell_type": "code",
   "execution_count": 31,
   "metadata": {},
   "outputs": [
    {
     "name": "stdout",
     "output_type": "stream",
     "text": [
      "cuadrante 1\n"
     ]
    }
   ],
   "source": [
    "cuadrantes (-5,3)"
   ]
  },
  {
   "cell_type": "code",
   "execution_count": 32,
   "metadata": {},
   "outputs": [
    {
     "name": "stdout",
     "output_type": "stream",
     "text": [
      "cuadrante 3\n"
     ]
    }
   ],
   "source": [
    "cuadrantes (-2,-2)"
   ]
  },
  {
   "cell_type": "code",
   "execution_count": 33,
   "metadata": {},
   "outputs": [
    {
     "name": "stdout",
     "output_type": "stream",
     "text": [
      "cuadrante 4\n"
     ]
    }
   ],
   "source": [
    "cuadrantes (5,-3)"
   ]
  },
  {
   "cell_type": "code",
   "execution_count": 5,
   "metadata": {},
   "outputs": [],
   "source": [
    "def division (x,y):\n",
    "    cociente = x//y\n",
    "    resto = x%y\n",
    "    return (cociente, resto)"
   ]
  },
  {
   "cell_type": "code",
   "execution_count": 6,
   "metadata": {},
   "outputs": [
    {
     "data": {
      "text/plain": [
       "(3, 1)"
      ]
     },
     "execution_count": 6,
     "metadata": {},
     "output_type": "execute_result"
    }
   ],
   "source": [
    "division(7,2)"
   ]
  },
  {
   "cell_type": "code",
   "execution_count": 4,
   "metadata": {},
   "outputs": [],
   "source": [
    "import math"
   ]
  },
  {
   "cell_type": "code",
   "execution_count": 11,
   "metadata": {},
   "outputs": [
    {
     "name": "stdout",
     "output_type": "stream",
     "text": [
      "Escribe un número:7\n",
      "2\n",
      "Es cuadrado perfecto\n"
     ]
    }
   ],
   "source": [
    "x = int(input(\"Escribe un número:\"))\n",
    "y = math.sqrt(x)\n",
    "print(int(y))\n",
    "if isinstance(int(y), int) :\n",
    "    print(\"Es cuadrado perfecto\")\n",
    "else:\n",
    "    print(\"No es un cuadrado perfecto\")"
   ]
  },
  {
   "cell_type": "code",
   "execution_count": 25,
   "metadata": {},
   "outputs": [
    {
     "name": "stdout",
     "output_type": "stream",
     "text": [
      "Escribe un año:2100\n",
      "Corresponde a un año bisiesto\n"
     ]
    }
   ],
   "source": [
    "x = int(input(\"Escribe un año:\"))\n",
    "if x//4 and x%4==0:\n",
    "    print(\"Corresponde a un año bisiesto\")\n",
    "elif x//100 and x%100==0:\n",
    "    print(\"Has escrito un 0\")\n",
    "else:\n",
    "    print(\"Has escrito un número positivo\")"
   ]
  },
  {
   "cell_type": "code",
   "execution_count": 20,
   "metadata": {},
   "outputs": [
    {
     "data": {
      "text/plain": [
       "507"
      ]
     },
     "execution_count": 20,
     "metadata": {},
     "output_type": "execute_result"
    }
   ],
   "source": [
    "2030//4"
   ]
  },
  {
   "cell_type": "code",
   "execution_count": 25,
   "metadata": {},
   "outputs": [
    {
     "name": "stdout",
     "output_type": "stream",
     "text": [
      "Escribe un número:3\n",
      "1\n",
      "No es un cuadrado perfecto\n"
     ]
    }
   ],
   "source": [
    "x = int(input(\"Escribe un número:\"))\n",
    "y = math.sqrt(x)\n",
    "print(int(y))\n",
    "if int(y)**2==x:\n",
    "    print(\"Es cuadrado perfecto\")\n",
    "else:\n",
    "    print(\"No es un cuadrado perfecto\")"
   ]
  },
  {
   "cell_type": "code",
   "execution_count": null,
   "metadata": {},
   "outputs": [],
   "source": []
  },
  {
   "cell_type": "code",
   "execution_count": null,
   "metadata": {},
   "outputs": [],
   "source": []
  }
 ],
 "metadata": {
  "kernelspec": {
   "display_name": "Python 3",
   "language": "python",
   "name": "python3"
  },
  "language_info": {
   "codemirror_mode": {
    "name": "ipython",
    "version": 3
   },
   "file_extension": ".py",
   "mimetype": "text/x-python",
   "name": "python",
   "nbconvert_exporter": "python",
   "pygments_lexer": "ipython3",
   "version": "3.8.2"
  }
 },
 "nbformat": 4,
 "nbformat_minor": 4
}
